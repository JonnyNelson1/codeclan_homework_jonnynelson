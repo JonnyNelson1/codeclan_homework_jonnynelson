{
 "cells": [
  {
   "cell_type": "markdown",
   "id": "dc8d05d5",
   "metadata": {},
   "source": [
    "# Homework\n",
    "\n",
    "## Question 1"
   ]
  },
  {
   "cell_type": "code",
   "execution_count": 4,
   "id": "e78cab31",
   "metadata": {},
   "outputs": [
    {
     "data": {
      "text/plain": [
       "['spam', 'ham', 'eggs', 'ham']"
      ]
     },
     "execution_count": 4,
     "metadata": {},
     "output_type": "execute_result"
    }
   ],
   "source": [
    "food = ['spam', 'ham', 'eggs', 'ham']\n",
    "\n",
    "food"
   ]
  },
  {
   "cell_type": "code",
   "execution_count": 6,
   "id": "49d2dc92",
   "metadata": {},
   "outputs": [
    {
     "data": {
      "text/plain": [
       "'ham'"
      ]
     },
     "execution_count": 6,
     "metadata": {},
     "output_type": "execute_result"
    }
   ],
   "source": [
    "food[1]"
   ]
  },
  {
   "cell_type": "code",
   "execution_count": 68,
   "id": "06a4e381",
   "metadata": {},
   "outputs": [
    {
     "data": {
      "text/plain": [
       "['spam', 'ham', 'eggs']"
      ]
     },
     "execution_count": 68,
     "metadata": {},
     "output_type": "execute_result"
    }
   ],
   "source": [
    "food[0:3]"
   ]
  },
  {
   "cell_type": "code",
   "execution_count": 9,
   "id": "bbac545b",
   "metadata": {},
   "outputs": [
    {
     "data": {
      "text/plain": [
       "'ham'"
      ]
     },
     "execution_count": 9,
     "metadata": {},
     "output_type": "execute_result"
    }
   ],
   "source": [
    "food[-1]"
   ]
  },
  {
   "cell_type": "markdown",
   "id": "6978b72b",
   "metadata": {},
   "source": [
    "## Question 2"
   ]
  },
  {
   "cell_type": "code",
   "execution_count": 32,
   "id": "f97f4283",
   "metadata": {},
   "outputs": [],
   "source": [
    "stops = [\"Croy\", \"Cumbernauld\", \"Falkirk High\", \"Linlithgow\", \"Livingston\", \"Haymarket\"]"
   ]
  },
  {
   "cell_type": "code",
   "execution_count": 33,
   "id": "91640c40",
   "metadata": {},
   "outputs": [
    {
     "data": {
      "text/plain": [
       "['Croy',\n",
       " 'Cumbernauld',\n",
       " 'Falkirk High',\n",
       " 'Linlithgow',\n",
       " 'Livingston',\n",
       " 'Haymarket',\n",
       " 'Edinburgh Waverly']"
      ]
     },
     "execution_count": 33,
     "metadata": {},
     "output_type": "execute_result"
    }
   ],
   "source": [
    "stops.append('Edinburgh Waverly')\n",
    "\n",
    "stops"
   ]
  },
  {
   "cell_type": "code",
   "execution_count": 34,
   "id": "16d9c8b6",
   "metadata": {},
   "outputs": [
    {
     "data": {
      "text/plain": [
       "['Queen Street',\n",
       " 'Croy',\n",
       " 'Cumbernauld',\n",
       " 'Falkirk High',\n",
       " 'Linlithgow',\n",
       " 'Livingston',\n",
       " 'Haymarket',\n",
       " 'Edinburgh Waverly']"
      ]
     },
     "execution_count": 34,
     "metadata": {},
     "output_type": "execute_result"
    }
   ],
   "source": [
    "stops.insert(0,'Queen Street')\n",
    "\n",
    "stops"
   ]
  },
  {
   "cell_type": "code",
   "execution_count": 29,
   "id": "896420ee",
   "metadata": {},
   "outputs": [
    {
     "data": {
      "text/plain": [
       "1"
      ]
     },
     "execution_count": 29,
     "metadata": {},
     "output_type": "execute_result"
    }
   ],
   "source": [
    "stops.index(\"Croy\")"
   ]
  },
  {
   "cell_type": "code",
   "execution_count": 35,
   "id": "81f12163",
   "metadata": {},
   "outputs": [
    {
     "data": {
      "text/plain": [
       "['Queen Street',\n",
       " 'Croy',\n",
       " 'Cumbernauld',\n",
       " 'Falkirk High',\n",
       " 'Polmont',\n",
       " 'Linlithgow',\n",
       " 'Livingston',\n",
       " 'Haymarket',\n",
       " 'Edinburgh Waverly']"
      ]
     },
     "execution_count": 35,
     "metadata": {},
     "output_type": "execute_result"
    }
   ],
   "source": [
    "stops.insert(4, \"Polmont\")\n",
    "\n",
    "stops"
   ]
  },
  {
   "cell_type": "code",
   "execution_count": 36,
   "id": "47e8406e",
   "metadata": {},
   "outputs": [],
   "source": [
    "stops.remove('Haymarket')"
   ]
  },
  {
   "cell_type": "code",
   "execution_count": 42,
   "id": "16b88ea0",
   "metadata": {},
   "outputs": [
    {
     "data": {
      "text/plain": [
       "['Queen Street',\n",
       " 'Croy',\n",
       " 'Cumbernauld',\n",
       " 'Falkirk High',\n",
       " 'Polmont',\n",
       " 'Linlithgow',\n",
       " 'Livingston',\n",
       " 'Edinburgh Waverly']"
      ]
     },
     "execution_count": 42,
     "metadata": {},
     "output_type": "execute_result"
    }
   ],
   "source": [
    "stops"
   ]
  },
  {
   "cell_type": "code",
   "execution_count": 43,
   "id": "29042da2",
   "metadata": {},
   "outputs": [
    {
     "data": {
      "text/plain": [
       "[]"
      ]
     },
     "execution_count": 43,
     "metadata": {},
     "output_type": "execute_result"
    }
   ],
   "source": [
    "stops.clear()\n",
    "\n",
    "stops"
   ]
  },
  {
   "cell_type": "markdown",
   "id": "090b50c8",
   "metadata": {},
   "source": [
    "## Question 3"
   ]
  },
  {
   "cell_type": "code",
   "execution_count": 52,
   "id": "2d4aef92",
   "metadata": {},
   "outputs": [
    {
     "data": {
      "text/plain": [
       "{'name': 'Steph', 'age': 31, 'Instructor': True}"
      ]
     },
     "execution_count": 52,
     "metadata": {},
     "output_type": "execute_result"
    }
   ],
   "source": [
    "person = {\"name\": \"Steph\", \"age\": 31, \"Instructor\" : True}\n",
    "\n",
    "person"
   ]
  },
  {
   "cell_type": "code",
   "execution_count": 45,
   "id": "4c3286fe",
   "metadata": {},
   "outputs": [
    {
     "data": {
      "text/plain": [
       "dict_keys(['name', 'age', 'Instructor'])"
      ]
     },
     "execution_count": 45,
     "metadata": {},
     "output_type": "execute_result"
    }
   ],
   "source": [
    "person.keys()"
   ]
  },
  {
   "cell_type": "code",
   "execution_count": 46,
   "id": "ce41a719",
   "metadata": {},
   "outputs": [
    {
     "data": {
      "text/plain": [
       "dict_values(['Steph', 31, True])"
      ]
     },
     "execution_count": 46,
     "metadata": {},
     "output_type": "execute_result"
    }
   ],
   "source": [
    "person.values()"
   ]
  },
  {
   "cell_type": "code",
   "execution_count": 47,
   "id": "81930087",
   "metadata": {},
   "outputs": [
    {
     "data": {
      "text/plain": [
       "dict_items([('name', 'Steph'), ('age', 31), ('Instructor', True)])"
      ]
     },
     "execution_count": 47,
     "metadata": {},
     "output_type": "execute_result"
    }
   ],
   "source": [
    "person.items()"
   ]
  },
  {
   "cell_type": "code",
   "execution_count": 53,
   "id": "c8abcc09",
   "metadata": {},
   "outputs": [
    {
     "name": "stdout",
     "output_type": "stream",
     "text": [
      "{'age': 31, 'Instructor': True}\n"
     ]
    }
   ],
   "source": [
    "del person['name']\n",
    "print(person)"
   ]
  },
  {
   "cell_type": "code",
   "execution_count": 54,
   "id": "0e42bdbf",
   "metadata": {},
   "outputs": [
    {
     "name": "stdout",
     "output_type": "stream",
     "text": [
      "{'age': 31, 'Instructor': True, 'email': 'steph@codeclan.com'}\n"
     ]
    }
   ],
   "source": [
    "person[\"email\"] = \"steph@codeclan.com\"\n",
    "print(person)"
   ]
  },
  {
   "cell_type": "code",
   "execution_count": 55,
   "id": "edc54824",
   "metadata": {},
   "outputs": [
    {
     "name": "stdout",
     "output_type": "stream",
     "text": [
      "{'age': 31, 'email': 'steph@codeclan.com'}\n"
     ]
    }
   ],
   "source": [
    "del person['Instructor']\n",
    "print(person)"
   ]
  },
  {
   "cell_type": "markdown",
   "id": "86e668bc",
   "metadata": {},
   "source": [
    "## Question 4"
   ]
  },
  {
   "cell_type": "code",
   "execution_count": 88,
   "id": "1292de67",
   "metadata": {},
   "outputs": [],
   "source": [
    "numbers = [1, 6, 2, 2, 7, 1, 6, 13, 99, 7]"
   ]
  },
  {
   "cell_type": "code",
   "execution_count": 57,
   "id": "64eb6944",
   "metadata": {
    "scrolled": true
   },
   "outputs": [
    {
     "name": "stdout",
     "output_type": "stream",
     "text": [
      "[6, 2, 2, 6]\n"
     ]
    }
   ],
   "source": [
    "even_numbers = []\n",
    "for number in numbers:\n",
    "    if number %2 == 0:\n",
    "        even_numbers.append(number)\n",
    "\n",
    "print(even_numbers) "
   ]
  },
  {
   "cell_type": "code",
   "execution_count": 66,
   "id": "e0ab731c",
   "metadata": {},
   "outputs": [
    {
     "data": {
      "text/plain": [
       "98"
      ]
     },
     "execution_count": 66,
     "metadata": {},
     "output_type": "execute_result"
    }
   ],
   "source": [
    "def diff(numbers):\n",
    "    sum = max(numbers) - min(numbers)\n",
    "    return sum\n",
    "\n",
    "diff(numbers)\n"
   ]
  },
  {
   "cell_type": "code",
   "execution_count": 69,
   "id": "8117cf85",
   "metadata": {},
   "outputs": [
    {
     "name": "stdout",
     "output_type": "stream",
     "text": [
      "True\n"
     ]
    }
   ],
   "source": [
    "result = False\n",
    "index = 0\n",
    "for number in numbers:\n",
    "    if (number == 2 and numbers[index-1] == 2):\n",
    "        result = True\n",
    "    index += 1\n",
    "print(result)"
   ]
  },
  {
   "cell_type": "code",
   "execution_count": 70,
   "id": "dc2412fa",
   "metadata": {},
   "outputs": [
    {
     "name": "stdout",
     "output_type": "stream",
     "text": [
      "2\n"
     ]
    }
   ],
   "source": [
    "# 4. Print the sum of the numbers, BUT ignore any section of numbers starting with a 6 and extending to the next 7.\n",
    "# So [11, 6, 4, 99, 7, 11] would have sum of 22\n",
    "\n",
    "total = 0\n",
    "skip_this_bit = False\n",
    "for number in numbers: \n",
    "    if number == 6:\n",
    "        # start skipping\n",
    "        skip_this_bit = True\n",
    "    elif skip_this_bit:\n",
    "        if number == 7:\n",
    "            # if we're skipping, and this number is 7\n",
    "            # then stop skipping\n",
    "            skip_this_bit = False\n",
    "    else:\n",
    "        total += number\n",
    "\n",
    "print(total)"
   ]
  },
  {
   "cell_type": "code",
   "execution_count": 98,
   "id": "6fec72ca",
   "metadata": {},
   "outputs": [
    {
     "name": "stdout",
     "output_type": "stream",
     "text": [
      "2\n"
     ]
    }
   ],
   "source": [
    "total = 0\n",
    "skip_flag = False\n",
    "\n",
    "# loop through list of numbers\n",
    "# start skipping if we hit a 6\n",
    "# stop skipping if we are skipping and we hit a 7\n",
    "\n",
    "for number in numbers:\n",
    "    if number == 6:\n",
    "        # don't count\n",
    "        skip_flag = True\n",
    "    elif skip_flag and number == 7:\n",
    "        skip_flag = False\n",
    "    elif skip_flag == False:\n",
    "        total += number\n",
    "        \n",
    "print(total)\n",
    "\n"
   ]
  },
  {
   "cell_type": "markdown",
   "id": "6dec9c6b",
   "metadata": {},
   "source": [
    "## Question 5"
   ]
  },
  {
   "cell_type": "code",
   "execution_count": 71,
   "id": "3aed4f3a",
   "metadata": {},
   "outputs": [
    {
     "name": "stdout",
     "output_type": "stream",
     "text": [
      "Woo Python!\n"
     ]
    }
   ],
   "source": [
    "# Solution - both true\n",
    "\n",
    "python_is_fun = True\n",
    "python_is_weird = True\n",
    "\n",
    "if python_is_fun or python_is_weird:\n",
    "    print(\"Woo Python!\")\n",
    "else: \n",
    "    print(\"Python is not for me!\")"
   ]
  },
  {
   "cell_type": "code",
   "execution_count": 72,
   "id": "61b8e559",
   "metadata": {},
   "outputs": [
    {
     "name": "stdout",
     "output_type": "stream",
     "text": [
      "Woo Python!\n"
     ]
    }
   ],
   "source": [
    "# Solution - One true, one false\n",
    "\n",
    "python_is_fun = True\n",
    "python_is_weird = False\n",
    "\n",
    "if python_is_fun or python_is_weird:\n",
    "    print(\"Woo Python!\")\n",
    "else: \n",
    "    print(\"Python is not for me!\")"
   ]
  },
  {
   "cell_type": "code",
   "execution_count": 73,
   "id": "ba979280",
   "metadata": {},
   "outputs": [
    {
     "name": "stdout",
     "output_type": "stream",
     "text": [
      "Python is not for me!\n"
     ]
    }
   ],
   "source": [
    "# Solution - both false\n",
    "\n",
    "python_is_fun = False\n",
    "python_is_weird = False\n",
    "\n",
    "if python_is_fun or python_is_weird:\n",
    "    print(\"Woo Python!\")\n",
    "else: \n",
    "    print(\"Python is not for me!\")"
   ]
  },
  {
   "cell_type": "markdown",
   "id": "c68fd358",
   "metadata": {},
   "source": [
    "## Question 6"
   ]
  },
  {
   "cell_type": "code",
   "execution_count": 86,
   "id": "c437336a",
   "metadata": {},
   "outputs": [
    {
     "name": "stdout",
     "output_type": "stream",
     "text": [
      "30 eggs collected\n"
     ]
    }
   ],
   "source": [
    "chickens = [\n",
    "  { \"name\": \"Margaret\", \"age\": 2, \"eggs\": 0 },\n",
    "  { \"name\": \"Hetty\", \"age\": 1, \"eggs\": 2 },\n",
    "  { \"name\": \"Henrietta\", \"age\": 3, \"eggs\": 1 },\n",
    "  { \"name\": \"Audrey\", \"age\": 2, \"eggs\": 0 },\n",
    "  { \"name\": \"Mabel\", \"age\": 5, \"eggs\": 1 },\n",
    "  { \"name\": \"Greg Wilson\", \"age\": 2, \"eggs\": 26 },\n",
    "]\n",
    "\n",
    "def count_eggs(chickens):\n",
    "    total_eggs = 0\n",
    "    \n",
    "    for bird in chickens:\n",
    "        total_eggs += bird['eggs']\n",
    "        bird['eggs'] = 0 # eggs have been collected\n",
    "        \n",
    "    return f\"{total_eggs} eggs collected\"\n",
    "\n",
    "print(count_eggs(chickens))"
   ]
  }
 ],
 "metadata": {
  "kernelspec": {
   "display_name": "Python 3",
   "language": "python",
   "name": "python3"
  },
  "language_info": {
   "codemirror_mode": {
    "name": "ipython",
    "version": 3
   },
   "file_extension": ".py",
   "mimetype": "text/x-python",
   "name": "python",
   "nbconvert_exporter": "python",
   "pygments_lexer": "ipython3",
   "version": "3.8.8"
  },
  "varInspector": {
   "cols": {
    "lenName": 16,
    "lenType": 16,
    "lenVar": 40
   },
   "kernels_config": {
    "python": {
     "delete_cmd_postfix": "",
     "delete_cmd_prefix": "del ",
     "library": "var_list.py",
     "varRefreshCmd": "print(var_dic_list())"
    },
    "r": {
     "delete_cmd_postfix": ") ",
     "delete_cmd_prefix": "rm(",
     "library": "var_list.r",
     "varRefreshCmd": "cat(var_dic_list()) "
    }
   },
   "types_to_exclude": [
    "module",
    "function",
    "builtin_function_or_method",
    "instance",
    "_Feature"
   ],
   "window_display": false
  }
 },
 "nbformat": 4,
 "nbformat_minor": 5
}
